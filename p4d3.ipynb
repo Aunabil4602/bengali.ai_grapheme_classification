{
 "cells": [
  {
   "cell_type": "code",
   "execution_count": 1,
   "metadata": {},
   "outputs": [
    {
     "name": "stderr",
     "output_type": "stream",
     "text": [
      "Using TensorFlow backend.\n"
     ]
    }
   ],
   "source": [
    "#imports & froms\n",
    "\n",
    "import csv\n",
    "import pandas as pd\n",
    "import numpy as np\n",
    "import tensorflow as tf\n",
    "\n",
    "from keras.layers import Dense,Dropout,Activation,MaxPooling2D,Input,Conv2D,Flatten,BatchNormalization\n",
    "from keras.models import Model\n",
    "from keras.utils import to_categorical\n",
    "\n",
    "#imports\n",
    "\n",
    "import numpy as np\n",
    "import matplotlib.pyplot as plt\n",
    "\n",
    "from keras.layers import Input, Lambda, Dense, Flatten\n",
    "from keras.models import Model\n",
    "from keras.applications.vgg16 import VGG16\n",
    "from keras.applications.vgg16 import preprocess_input\n",
    "from keras.preprocessing import image\n",
    "from keras.preprocessing.image import ImageDataGenerator\n",
    "from keras.models import Sequential\n",
    "from glob import glob"
   ]
  },
  {
   "cell_type": "code",
   "execution_count": 2,
   "metadata": {},
   "outputs": [],
   "source": [
    "bs=128\n",
    "EP=150"
   ]
  },
  {
   "cell_type": "code",
   "execution_count": 3,
   "metadata": {
    "scrolled": false
   },
   "outputs": [
    {
     "name": "stdout",
     "output_type": "stream",
     "text": [
      "Found 185070 images belonging to 168 classes.\n",
      "Found 15770 images belonging to 168 classes.\n"
     ]
    }
   ],
   "source": [
    "#Image generating\n",
    "\n",
    "train_datagen = ImageDataGenerator(rescale = 1./255,\n",
    "                                   rotation_range=5.0,\n",
    "                                   shear_range=5.0,\n",
    "                                   fill_mode='constant',\n",
    "                                   cval=255)\n",
    "\n",
    "test_datagen = ImageDataGenerator(rescale = 1./255)\n",
    "\n",
    "training_set = train_datagen.flow_from_directory('data3/train',\n",
    "                                                 target_size = (64, 64),\n",
    "                                                 batch_size = bs,\n",
    "                                                 class_mode = 'categorical')\n",
    "\n",
    "test_set = test_datagen.flow_from_directory('data3/test',\n",
    "                                            target_size = (64, 64),\n",
    "                                            batch_size = bs,\n",
    "                                            class_mode = 'categorical')\n"
   ]
  },
  {
   "cell_type": "code",
   "execution_count": 4,
   "metadata": {},
   "outputs": [],
   "source": [
    "#models\n",
    "\n",
    "def modelRoot(inputX,classes):\n",
    "    X=Conv2D(32,(3,3),strides=(1,1),padding='SAME',activation='relu')(inputX)\n",
    "    X=Conv2D(32,(3,3),strides=(1,1),padding='SAME',activation='relu')(X)\n",
    "    X=Conv2D(32,(3,3),strides=(1,1),padding='SAME',activation='relu')(X)\n",
    "    X=BatchNormalization(axis=-1)(X)\n",
    "    X=MaxPooling2D((2,2))(X)\n",
    "    X=Dropout(0.25)(X)\n",
    "    \n",
    "    X=Conv2D(64,(3,3),strides=(1,1),padding='SAME',activation='relu')(X)\n",
    "    X=Conv2D(64,(3,3),strides=(1,1),padding='SAME',activation='relu')(X)\n",
    "    X=Conv2D(64,(3,3),strides=(1,1),padding='SAME',activation='relu')(X)\n",
    "    X=BatchNormalization(axis=-1)(X)\n",
    "    X=MaxPooling2D((2,2))(X)\n",
    "    X=Dropout(0.25)(X)\n",
    "    \n",
    "    X=Conv2D(128,(3,3),strides=(1,1),padding='SAME',activation='relu')(X)\n",
    "    X=Conv2D(128,(3,3),strides=(1,1),padding='SAME',activation='relu')(X)\n",
    "    X=Conv2D(128,(3,3),strides=(1,1),padding='SAME',activation='relu')(X)\n",
    "    X=BatchNormalization(axis=-1)(X)\n",
    "    X=MaxPooling2D((2,2))(X)\n",
    "    X=Dropout(0.25)(X)\n",
    "    \n",
    "    X=Conv2D(256,(3,3),strides=(1,1),padding='SAME',activation='relu')(X)\n",
    "    X=Conv2D(256,(3,3),strides=(1,1),padding='SAME',activation='relu')(X)\n",
    "    X=Conv2D(256,(3,3),strides=(1,1),padding='SAME',activation='relu')(X)\n",
    "    X=BatchNormalization(axis=-1)(X)\n",
    "    X=MaxPooling2D((2,2))(X)\n",
    "    X=Dropout(0.25)(X)\n",
    "    \n",
    "    \n",
    "    X=Flatten()(X)\n",
    "    X=Dense(4096,activation='relu')(X)\n",
    "    X=Dense(1024,activation='relu')(X)\n",
    "    X=Dense(512,activation='relu')(X)\n",
    "    \n",
    "    X=Dense(classes,activation='softmax')(X)\n",
    "    return X"
   ]
  },
  {
   "cell_type": "code",
   "execution_count": 5,
   "metadata": {},
   "outputs": [],
   "source": [
    "#merge & run model\n",
    "inputShape= Input((64,64,3))\n",
    "mRoot=modelRoot(inputShape,168)\n",
    "\n",
    "model=Model(inputs=inputShape,outputs=mRoot)\n",
    "model.compile(loss='categorical_crossentropy',optimizer='adam',metrics=['accuracy'])\n"
   ]
  },
  {
   "cell_type": "code",
   "execution_count": 6,
   "metadata": {},
   "outputs": [
    {
     "name": "stdout",
     "output_type": "stream",
     "text": [
      "Model: \"model_1\"\n",
      "_________________________________________________________________\n",
      "Layer (type)                 Output Shape              Param #   \n",
      "=================================================================\n",
      "input_1 (InputLayer)         (None, 64, 64, 3)         0         \n",
      "_________________________________________________________________\n",
      "conv2d_1 (Conv2D)            (None, 64, 64, 32)        896       \n",
      "_________________________________________________________________\n",
      "conv2d_2 (Conv2D)            (None, 64, 64, 32)        9248      \n",
      "_________________________________________________________________\n",
      "conv2d_3 (Conv2D)            (None, 64, 64, 32)        9248      \n",
      "_________________________________________________________________\n",
      "batch_normalization_1 (Batch (None, 64, 64, 32)        128       \n",
      "_________________________________________________________________\n",
      "max_pooling2d_1 (MaxPooling2 (None, 32, 32, 32)        0         \n",
      "_________________________________________________________________\n",
      "dropout_1 (Dropout)          (None, 32, 32, 32)        0         \n",
      "_________________________________________________________________\n",
      "conv2d_4 (Conv2D)            (None, 32, 32, 64)        18496     \n",
      "_________________________________________________________________\n",
      "conv2d_5 (Conv2D)            (None, 32, 32, 64)        36928     \n",
      "_________________________________________________________________\n",
      "conv2d_6 (Conv2D)            (None, 32, 32, 64)        36928     \n",
      "_________________________________________________________________\n",
      "batch_normalization_2 (Batch (None, 32, 32, 64)        256       \n",
      "_________________________________________________________________\n",
      "max_pooling2d_2 (MaxPooling2 (None, 16, 16, 64)        0         \n",
      "_________________________________________________________________\n",
      "dropout_2 (Dropout)          (None, 16, 16, 64)        0         \n",
      "_________________________________________________________________\n",
      "conv2d_7 (Conv2D)            (None, 16, 16, 128)       73856     \n",
      "_________________________________________________________________\n",
      "conv2d_8 (Conv2D)            (None, 16, 16, 128)       147584    \n",
      "_________________________________________________________________\n",
      "conv2d_9 (Conv2D)            (None, 16, 16, 128)       147584    \n",
      "_________________________________________________________________\n",
      "batch_normalization_3 (Batch (None, 16, 16, 128)       512       \n",
      "_________________________________________________________________\n",
      "max_pooling2d_3 (MaxPooling2 (None, 8, 8, 128)         0         \n",
      "_________________________________________________________________\n",
      "dropout_3 (Dropout)          (None, 8, 8, 128)         0         \n",
      "_________________________________________________________________\n",
      "conv2d_10 (Conv2D)           (None, 8, 8, 256)         295168    \n",
      "_________________________________________________________________\n",
      "conv2d_11 (Conv2D)           (None, 8, 8, 256)         590080    \n",
      "_________________________________________________________________\n",
      "conv2d_12 (Conv2D)           (None, 8, 8, 256)         590080    \n",
      "_________________________________________________________________\n",
      "batch_normalization_4 (Batch (None, 8, 8, 256)         1024      \n",
      "_________________________________________________________________\n",
      "max_pooling2d_4 (MaxPooling2 (None, 4, 4, 256)         0         \n",
      "_________________________________________________________________\n",
      "dropout_4 (Dropout)          (None, 4, 4, 256)         0         \n",
      "_________________________________________________________________\n",
      "flatten_1 (Flatten)          (None, 4096)              0         \n",
      "_________________________________________________________________\n",
      "dense_1 (Dense)              (None, 4096)              16781312  \n",
      "_________________________________________________________________\n",
      "dense_2 (Dense)              (None, 1024)              4195328   \n",
      "_________________________________________________________________\n",
      "dense_3 (Dense)              (None, 512)               524800    \n",
      "_________________________________________________________________\n",
      "dense_4 (Dense)              (None, 168)               86184     \n",
      "=================================================================\n",
      "Total params: 23,545,640\n",
      "Trainable params: 23,544,680\n",
      "Non-trainable params: 960\n",
      "_________________________________________________________________\n"
     ]
    }
   ],
   "source": [
    "model.summary()"
   ]
  },
  {
   "cell_type": "code",
   "execution_count": 7,
   "metadata": {},
   "outputs": [
    {
     "name": "stdout",
     "output_type": "stream",
     "text": [
      "Epoch 1/70\n",
      "1446/1446 [==============================] - 182s 126ms/step - loss: 2.3465 - accuracy: 0.4263 - val_loss: 0.8098 - val_accuracy: 0.7430\n",
      "Epoch 2/70\n",
      "1446/1446 [==============================] - 178s 123ms/step - loss: 0.7036 - accuracy: 0.8032 - val_loss: 0.3148 - val_accuracy: 0.8400\n",
      "Epoch 3/70\n",
      "1446/1446 [==============================] - 178s 123ms/step - loss: 0.4975 - accuracy: 0.8599 - val_loss: 0.6023 - val_accuracy: 0.8689\n",
      "Epoch 4/70\n",
      "1446/1446 [==============================] - 177s 122ms/step - loss: 0.4114 - accuracy: 0.8837 - val_loss: 0.1918 - val_accuracy: 0.8880\n",
      "Epoch 5/70\n",
      "1446/1446 [==============================] - 177s 122ms/step - loss: 0.3594 - accuracy: 0.8981 - val_loss: 0.3577 - val_accuracy: 0.8966\n",
      "Epoch 6/70\n",
      "1446/1446 [==============================] - 178s 123ms/step - loss: 0.3182 - accuracy: 0.9093 - val_loss: 0.2351 - val_accuracy: 0.9030\n",
      "Epoch 7/70\n",
      "1446/1446 [==============================] - 177s 122ms/step - loss: 0.2867 - accuracy: 0.9179 - val_loss: 0.6166 - val_accuracy: 0.9040\n",
      "Epoch 8/70\n",
      "1446/1446 [==============================] - 176s 122ms/step - loss: 0.2623 - accuracy: 0.9238 - val_loss: 0.6820 - val_accuracy: 0.9076\n",
      "Epoch 9/70\n",
      "1446/1446 [==============================] - 177s 123ms/step - loss: 0.2379 - accuracy: 0.9314 - val_loss: 0.1051 - val_accuracy: 0.9016\n",
      "Epoch 10/70\n",
      "1446/1446 [==============================] - 177s 122ms/step - loss: 0.2207 - accuracy: 0.9361 - val_loss: 0.8239 - val_accuracy: 0.9135\n",
      "Epoch 11/70\n",
      "1446/1446 [==============================] - 176s 122ms/step - loss: 0.2009 - accuracy: 0.9409 - val_loss: 0.4977 - val_accuracy: 0.9122\n",
      "Epoch 12/70\n",
      "1446/1446 [==============================] - 177s 122ms/step - loss: 0.1855 - accuracy: 0.9448 - val_loss: 0.0570 - val_accuracy: 0.9201\n",
      "Epoch 13/70\n",
      "1446/1446 [==============================] - 176s 122ms/step - loss: 0.1718 - accuracy: 0.9492 - val_loss: 0.1893 - val_accuracy: 0.9127\n",
      "Epoch 14/70\n",
      "1446/1446 [==============================] - 177s 123ms/step - loss: 0.1622 - accuracy: 0.9515 - val_loss: 0.2586 - val_accuracy: 0.9155\n",
      "Epoch 15/70\n",
      "1446/1446 [==============================] - 178s 123ms/step - loss: 0.1509 - accuracy: 0.9546 - val_loss: 0.4622 - val_accuracy: 0.9157\n",
      "Epoch 16/70\n",
      "1446/1446 [==============================] - 177s 122ms/step - loss: 0.1456 - accuracy: 0.9568 - val_loss: 0.0786 - val_accuracy: 0.9221\n",
      "Epoch 17/70\n",
      "1446/1446 [==============================] - 177s 122ms/step - loss: 0.1342 - accuracy: 0.9595 - val_loss: 0.1231 - val_accuracy: 0.9225\n",
      "Epoch 18/70\n",
      "1446/1446 [==============================] - 177s 123ms/step - loss: 0.1237 - accuracy: 0.9626 - val_loss: 0.5110 - val_accuracy: 0.9266\n",
      "Epoch 19/70\n",
      "1446/1446 [==============================] - 177s 122ms/step - loss: 0.1277 - accuracy: 0.9612 - val_loss: 0.7960 - val_accuracy: 0.9266\n",
      "Epoch 20/70\n",
      "1446/1446 [==============================] - 177s 122ms/step - loss: 0.1107 - accuracy: 0.9661 - val_loss: 0.0324 - val_accuracy: 0.9208\n",
      "Epoch 21/70\n",
      "1446/1446 [==============================] - 177s 122ms/step - loss: 0.1498 - accuracy: 0.9572 - val_loss: 0.3787 - val_accuracy: 0.9216\n",
      "Epoch 22/70\n",
      "1446/1446 [==============================] - 177s 122ms/step - loss: 0.1021 - accuracy: 0.9688 - val_loss: 0.1980 - val_accuracy: 0.9276\n",
      "Epoch 23/70\n",
      "1446/1446 [==============================] - 177s 122ms/step - loss: 0.0931 - accuracy: 0.9715 - val_loss: 0.7666 - val_accuracy: 0.9256\n",
      "Epoch 24/70\n",
      "1446/1446 [==============================] - 177s 123ms/step - loss: 0.0883 - accuracy: 0.9728 - val_loss: 0.1417 - val_accuracy: 0.9202\n",
      "Epoch 25/70\n",
      "1446/1446 [==============================] - 177s 122ms/step - loss: 0.0982 - accuracy: 0.9704 - val_loss: 0.7334 - val_accuracy: 0.9254\n",
      "Epoch 26/70\n",
      "1446/1446 [==============================] - 177s 122ms/step - loss: 0.0826 - accuracy: 0.9750 - val_loss: 0.0212 - val_accuracy: 0.9139\n",
      "Epoch 27/70\n",
      "1446/1446 [==============================] - 177s 122ms/step - loss: 0.0854 - accuracy: 0.9742 - val_loss: 0.0474 - val_accuracy: 0.9238\n",
      "Epoch 28/70\n",
      "1446/1446 [==============================] - 176s 122ms/step - loss: 0.0797 - accuracy: 0.9757 - val_loss: 0.2683 - val_accuracy: 0.9245\n",
      "Epoch 29/70\n",
      "1446/1446 [==============================] - 176s 122ms/step - loss: 0.0777 - accuracy: 0.9761 - val_loss: 0.0090 - val_accuracy: 0.9217\n",
      "Epoch 30/70\n",
      "1446/1446 [==============================] - 177s 123ms/step - loss: 0.0764 - accuracy: 0.9768 - val_loss: 0.7098 - val_accuracy: 0.9238\n",
      "Epoch 31/70\n",
      "1446/1446 [==============================] - 176s 122ms/step - loss: 0.0722 - accuracy: 0.9785 - val_loss: 0.0194 - val_accuracy: 0.9260\n",
      "Epoch 32/70\n",
      "1446/1446 [==============================] - 176s 122ms/step - loss: 0.0717 - accuracy: 0.9784 - val_loss: 0.0205 - val_accuracy: 0.9207\n",
      "Epoch 33/70\n",
      "1446/1446 [==============================] - 177s 123ms/step - loss: 0.1405 - accuracy: 0.9758 - val_loss: 0.3800 - val_accuracy: 0.8150\n",
      "Epoch 34/70\n",
      "1446/1446 [==============================] - 176s 122ms/step - loss: 0.3230 - accuracy: 0.9499 - val_loss: 0.1761 - val_accuracy: 0.9283\n",
      "Epoch 35/70\n",
      "1446/1446 [==============================] - 176s 122ms/step - loss: 0.0658 - accuracy: 0.9807 - val_loss: 1.7427 - val_accuracy: 0.9254\n",
      "Epoch 36/70\n",
      "1446/1446 [==============================] - 177s 122ms/step - loss: 0.1652 - accuracy: 0.9672 - val_loss: 0.0838 - val_accuracy: 0.9237\n",
      "Epoch 37/70\n",
      "1446/1446 [==============================] - 177s 122ms/step - loss: 0.0772 - accuracy: 0.9784 - val_loss: 0.7289 - val_accuracy: 0.9271\n",
      "Epoch 38/70\n",
      "1446/1446 [==============================] - 177s 122ms/step - loss: 0.0671 - accuracy: 0.9811 - val_loss: 0.2871 - val_accuracy: 0.9223\n",
      "Epoch 39/70\n",
      "1446/1446 [==============================] - 177s 123ms/step - loss: 0.0747 - accuracy: 0.9795 - val_loss: 0.6227 - val_accuracy: 0.9266\n",
      "Epoch 40/70\n",
      "1446/1446 [==============================] - 176s 122ms/step - loss: 0.0717 - accuracy: 0.9800 - val_loss: 0.0445 - val_accuracy: 0.9223\n",
      "Epoch 41/70\n",
      "1446/1446 [==============================] - 177s 122ms/step - loss: 0.0716 - accuracy: 0.9800 - val_loss: 0.0364 - val_accuracy: 0.9183\n",
      "Epoch 42/70\n",
      "1446/1446 [==============================] - 177s 122ms/step - loss: 0.0678 - accuracy: 0.9809 - val_loss: 0.1431 - val_accuracy: 0.9220\n",
      "Epoch 43/70\n",
      "1446/1446 [==============================] - 176s 122ms/step - loss: 0.0645 - accuracy: 0.9819 - val_loss: 1.1086 - val_accuracy: 0.9224\n",
      "Epoch 44/70\n",
      "1446/1446 [==============================] - 177s 122ms/step - loss: 0.0670 - accuracy: 0.9813 - val_loss: 1.7040 - val_accuracy: 0.9254\n",
      "Epoch 45/70\n",
      "1446/1446 [==============================] - 178s 123ms/step - loss: 0.0625 - accuracy: 0.9822 - val_loss: 0.9362 - val_accuracy: 0.9204\n",
      "Epoch 46/70\n",
      "1446/1446 [==============================] - 177s 122ms/step - loss: 0.0607 - accuracy: 0.9830 - val_loss: 0.1471 - val_accuracy: 0.9210\n",
      "Epoch 47/70\n",
      "1446/1446 [==============================] - 176s 122ms/step - loss: 0.0582 - accuracy: 0.9834 - val_loss: 0.6017 - val_accuracy: 0.9139\n",
      "Epoch 48/70\n",
      "1446/1446 [==============================] - 177s 122ms/step - loss: 0.0600 - accuracy: 0.9836 - val_loss: 0.7168 - val_accuracy: 0.9227\n",
      "Epoch 49/70\n",
      "1446/1446 [==============================] - 177s 122ms/step - loss: 0.0569 - accuracy: 0.9840 - val_loss: 0.6854 - val_accuracy: 0.9250\n",
      "Epoch 50/70\n",
      "1446/1446 [==============================] - 176s 122ms/step - loss: 0.0560 - accuracy: 0.9842 - val_loss: 1.7900 - val_accuracy: 0.9194\n",
      "Epoch 51/70\n",
      "1446/1446 [==============================] - 177s 122ms/step - loss: 0.0554 - accuracy: 0.9845 - val_loss: 0.1213 - val_accuracy: 0.9252\n",
      "Epoch 52/70\n",
      "1446/1446 [==============================] - 177s 122ms/step - loss: 0.0545 - accuracy: 0.9849 - val_loss: 0.0561 - val_accuracy: 0.9277\n",
      "Epoch 53/70\n",
      "1446/1446 [==============================] - 176s 122ms/step - loss: 0.0544 - accuracy: 0.9850 - val_loss: 0.4523 - val_accuracy: 0.9277\n",
      "Epoch 54/70\n",
      "1446/1446 [==============================] - 177s 122ms/step - loss: 0.0530 - accuracy: 0.9855 - val_loss: 0.0994 - val_accuracy: 0.9209\n",
      "Epoch 55/70\n",
      "1446/1446 [==============================] - 177s 122ms/step - loss: 0.0564 - accuracy: 0.9846 - val_loss: 0.2393 - val_accuracy: 0.9283\n",
      "Epoch 56/70\n"
     ]
    },
    {
     "name": "stdout",
     "output_type": "stream",
     "text": [
      "1446/1446 [==============================] - 177s 122ms/step - loss: 0.0517 - accuracy: 0.9857 - val_loss: 1.7369 - val_accuracy: 0.9223\n",
      "Epoch 57/70\n",
      "1446/1446 [==============================] - 179s 124ms/step - loss: 0.0533 - accuracy: 0.9856 - val_loss: 1.2356 - val_accuracy: 0.8910\n",
      "Epoch 58/70\n",
      "1446/1446 [==============================] - 177s 122ms/step - loss: 0.0540 - accuracy: 0.9859 - val_loss: 0.2700 - val_accuracy: 0.9291\n",
      "Epoch 59/70\n",
      "1446/1446 [==============================] - 177s 122ms/step - loss: 0.0482 - accuracy: 0.9864 - val_loss: 0.1471 - val_accuracy: 0.9262\n",
      "Epoch 60/70\n",
      "1446/1446 [==============================] - 176s 122ms/step - loss: 0.0542 - accuracy: 0.9858 - val_loss: 0.1967 - val_accuracy: 0.8831\n",
      "Epoch 61/70\n",
      "1446/1446 [==============================] - 176s 122ms/step - loss: 0.0478 - accuracy: 0.9868 - val_loss: 1.1808 - val_accuracy: 0.9253\n",
      "Epoch 62/70\n",
      "1446/1446 [==============================] - 177s 122ms/step - loss: 0.0534 - accuracy: 0.9858 - val_loss: 0.0674 - val_accuracy: 0.9252\n",
      "Epoch 63/70\n",
      "1446/1446 [==============================] - 177s 122ms/step - loss: 0.0574 - accuracy: 0.9853 - val_loss: 0.3714 - val_accuracy: 0.9281\n",
      "Epoch 64/70\n",
      "1446/1446 [==============================] - 177s 122ms/step - loss: 0.0470 - accuracy: 0.9875 - val_loss: 0.8510 - val_accuracy: 0.9224\n",
      "Epoch 65/70\n",
      "1446/1446 [==============================] - 179s 124ms/step - loss: 0.0523 - accuracy: 0.9866 - val_loss: 0.8529 - val_accuracy: 0.9261\n",
      "Epoch 66/70\n",
      "1446/1446 [==============================] - 176s 122ms/step - loss: 0.0506 - accuracy: 0.9869 - val_loss: 0.5598 - val_accuracy: 0.9219\n",
      "Epoch 67/70\n",
      "1446/1446 [==============================] - 177s 122ms/step - loss: 0.0512 - accuracy: 0.9870 - val_loss: 0.2475 - val_accuracy: 0.9242\n",
      "Epoch 68/70\n",
      "1446/1446 [==============================] - 179s 123ms/step - loss: 0.0540 - accuracy: 0.9861 - val_loss: 61249.7734 - val_accuracy: 0.8727\n",
      "Epoch 69/70\n",
      "1446/1446 [==============================] - 177s 122ms/step - loss: 0.0472 - accuracy: 0.9878 - val_loss: 0.2709 - val_accuracy: 0.9259\n",
      "Epoch 70/70\n",
      "1446/1446 [==============================] - 177s 122ms/step - loss: 0.0498 - accuracy: 0.9874 - val_loss: 0.3116 - val_accuracy: 0.9228\n"
     ]
    }
   ],
   "source": [
    "\n",
    "r = model.fit_generator(training_set,validation_data=test_set\n",
    "                        ,epochs=EP,steps_per_epoch=len(training_set),validation_steps=len(test_set))"
   ]
  },
  {
   "cell_type": "code",
   "execution_count": 8,
   "metadata": {},
   "outputs": [],
   "source": [
    "model_json = model.to_json()\n",
    "with open('modelfinal_epoch70.json', \"w\") as json_file:\n",
    "    json_file.write(model_json)\n",
    "    \n",
    "model.save_weights('modelfinalWeight_epoch70.h5')"
   ]
  },
  {
   "cell_type": "code",
   "execution_count": 20,
   "metadata": {},
   "outputs": [
    {
     "name": "stdout",
     "output_type": "stream",
     "text": [
      "Found 22636 images belonging to 168 classes.\n"
     ]
    }
   ],
   "source": [
    "#evaluation\n",
    "\n",
    "eva_datagen = ImageDataGenerator(rescale = 1./255)\n",
    "\n",
    "eva_set = eva_datagen.flow_from_directory('data2/other',\n",
    "                                            target_size = (64, 64),\n",
    "                                            batch_size = 128,\n",
    "                                            class_mode = 'categorical')"
   ]
  },
  {
   "cell_type": "code",
   "execution_count": 3,
   "metadata": {},
   "outputs": [],
   "source": [
    "from keras.models import model_from_json\n",
    "\n",
    "json_file = open('modelfinal_epoch70.json', 'r')\n",
    "loaded_model_json = json_file.read()\n",
    "json_file.close()\n",
    "model = model_from_json(loaded_model_json)\n",
    "model.load_weights('modelfinalWeight_epoch70.h5')"
   ]
  },
  {
   "cell_type": "code",
   "execution_count": 4,
   "metadata": {},
   "outputs": [],
   "source": [
    "\n",
    "model.compile(loss='categorical_crossentropy',optimizer='adam',metrics=['accuracy'])"
   ]
  },
  {
   "cell_type": "code",
   "execution_count": 9,
   "metadata": {},
   "outputs": [
    {
     "name": "stdout",
     "output_type": "stream",
     "text": [
      "118/118 [==============================] - 10s 83ms/step\n"
     ]
    }
   ],
   "source": [
    "ok=model.evaluate_generator(eva_set, verbose=1)"
   ]
  },
  {
   "cell_type": "code",
   "execution_count": 7,
   "metadata": {},
   "outputs": [
    {
     "name": "stdout",
     "output_type": "stream",
     "text": [
      "[0.02545292302966118, 0.9774404764175415]\n"
     ]
    }
   ],
   "source": [
    "print(ok)#data2 test"
   ]
  },
  {
   "cell_type": "code",
   "execution_count": 10,
   "metadata": {},
   "outputs": [
    {
     "name": "stdout",
     "output_type": "stream",
     "text": [
      "[0.0009325551218353212, 0.9864720702171326]\n"
     ]
    }
   ],
   "source": [
    "print(ok)#data1 test"
   ]
  },
  {
   "cell_type": "code",
   "execution_count": 21,
   "metadata": {},
   "outputs": [
    {
     "name": "stdout",
     "output_type": "stream",
     "text": [
      "177/177 [==============================] - 30s 170ms/step\n",
      "[12646.5078125, 0.8067237734794617]\n"
     ]
    }
   ],
   "source": [
    "#d1 train\n",
    "ok=model.evaluate_generator(eva_set, verbose=1)\n",
    "print(ok)"
   ]
  }
 ],
 "metadata": {
  "kernelspec": {
   "display_name": "Python 3",
   "language": "python",
   "name": "python3"
  },
  "language_info": {
   "codemirror_mode": {
    "name": "ipython",
    "version": 3
   },
   "file_extension": ".py",
   "mimetype": "text/x-python",
   "name": "python",
   "nbconvert_exporter": "python",
   "pygments_lexer": "ipython3",
   "version": "3.7.4"
  }
 },
 "nbformat": 4,
 "nbformat_minor": 2
}
