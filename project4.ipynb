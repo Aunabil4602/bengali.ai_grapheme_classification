{
  "nbformat": 4,
  "nbformat_minor": 0,
  "metadata": {
    "colab": {
      "name": "p4_Augmented_LenetAvg.ipynb",
      "provenance": [],
      "collapsed_sections": []
    },
    "kernelspec": {
      "name": "python3",
      "display_name": "Python 3"
    }
  },
  "cells": [
    {
      "cell_type": "code",
      "metadata": {
        "id": "Dib-H-BWp7a4",
        "colab_type": "code",
        "colab": {}
      },
      "source": [
        "from google.colab import drive\n",
        "drive.mount('/content/drive')"
      ],
      "execution_count": 0,
      "outputs": []
    },
    {
      "cell_type": "code",
      "metadata": {
        "id": "kFic9c6ar5Ah",
        "colab_type": "code",
        "colab": {}
      },
      "source": [
        "# imports & froms\n",
        "\n",
        "import csv\n",
        "import pandas as pd\n",
        "import numpy as np\n",
        "import tensorflow as tf\n",
        "import matplotlib.pyplot as plt\n",
        "\n",
        "from keras.layers import Dense,Dropout,Activation,AveragePooling2D,Input,Conv2D,Flatten,BatchNormalization\n",
        "from keras.models import Model\n",
        "from keras.utils import to_categorical\n",
        "import matplotlib.pyplot as plt\n"
      ],
      "execution_count": 0,
      "outputs": []
    },
    {
      "cell_type": "code",
      "metadata": {
        "id": "GNaKzo6hr-dC",
        "colab_type": "code",
        "colab": {}
      },
      "source": [
        "# data load\n",
        "\n",
        "fileLocations='drive/My Drive/data_sets/bengali_ai/'\n",
        "tY=np.load(fileLocations+'dY.npy')\n",
        "tX=np.load(fileLocations+'dX.npy')"
      ],
      "execution_count": 0,
      "outputs": []
    },
    {
      "cell_type": "code",
      "metadata": {
        "id": "U5Sr7sj6DxKf",
        "colab_type": "code",
        "colab": {}
      },
      "source": [
        "# data process\n",
        "\n",
        "total_tX=tX.shape[0]\n",
        "total_vX=vX.shape[0]\n",
        "classRoots=168\n",
        "classVowels=11\n",
        "classConsonants=7\n",
        "height=64\n",
        "width=80\n",
        "\n",
        "tX=tX.reshape(total_tX,height,width,1)\n",
        "vX=vX.reshape(total_vX,height,width,1)\n",
        "tX=tX/255\n",
        "vX=vX/255\n",
        "\n",
        "trY=np.empty([total_tX,1],dtype=np.int32)\n",
        "vrY=np.empty([total_vX,1],dtype=np.int32)\n",
        "tvY=np.empty([total_tX,1],dtype=np.int32)\n",
        "vvY=np.empty([total_vX,1],dtype=np.int32)\n",
        "tcY=np.empty([total_tX,1],dtype=np.int32)\n",
        "vcY=np.empty([total_vX,1],dtype=np.int32)\n",
        "\n",
        "for it in range(total_tX):  \n",
        "    trY[it,:]=tY[it][0]\n",
        "    tvY[it,:]=tY[it][1]\n",
        "    tcY[it,:]=tY[it][2]\n",
        "for it in range(total_vX):  \n",
        "    vrY[it,:]=vY[it][0]\n",
        "    vvY[it,:]=vY[it][1]\n",
        "    vcY[it,:]=vY[it][2]\n",
        "  \n",
        "trY=to_categorical(trY)\n",
        "tvY=to_categorical(tvY)\n",
        "tcY=to_categorical(tcY)\n",
        "vrY=to_categorical(vrY)\n",
        "vvY=to_categorical(vvY)\n",
        "vcY=to_categorical(vcY)"
      ],
      "execution_count": 0,
      "outputs": []
    },
    {
      "cell_type": "code",
      "metadata": {
        "id": "PxEoKAaJGCOT",
        "colab_type": "code",
        "colab": {}
      },
      "source": [
        "# models\n",
        "\n",
        "def modelRoot(inputX,classes):\n",
        "    X=Conv2D(8,(3,3),strides=(1,1),activation='relu',name='rootL1')(inputX)\n",
        "    X=BatchNormalization(axis=-1,name='rootL2')(X)\n",
        "    X=AveragePooling2D((2,2),name='rootL3')(X)\n",
        "    \n",
        "    X=Conv2D(16,(3,3),strides=(1,1),activation='relu',name='rootL5')(X)\n",
        "    X=BatchNormalization(axis=-1,name='rootL6')(X)\n",
        "    X=AveragePooling2D((2,2),name='rootL7')(X)\n",
        " \n",
        "    X=Flatten()(X)\n",
        "    X=Dense(128,activation='relu',name='rootL13')(X)\n",
        "    X=Dense(64,activation='relu',name='rootL14')(X)\n",
        "   \n",
        "    X=Dense(classes,activation='softmax',name='rootOutput')(X)\n",
        "    return X\n",
        "    \n",
        "def modelVowel(inputX,classes):\n",
        "    X=Conv2D(8,(3,3),strides=(1,1),activation='relu',name='vowelL1')(inputX)\n",
        "    X=BatchNormalization(axis=-1,name='vowelL2')(X)\n",
        "    X=AveragePooling2D((2,2),name='vowelL3')(X)\n",
        "\n",
        "    \n",
        "    X=Conv2D(16,(3,3),strides=(1,1),activation='relu',name='vowelL5')(X)\n",
        "    X=BatchNormalization(axis=-1,name='vowelL6')(X)\n",
        "    X=AveragePooling2D((2,2),name='vowelL7')(X)\n",
        "    \n",
        "    X=Flatten()(X)\n",
        "    X=Dense(128,activation='relu',name='vowelL9')(X)\n",
        "    X=Dense(64,activation='relu',name='vowelL10')(X)\n",
        "    \n",
        "    X=Dense(classes,activation='softmax',name='vowelOutput')(X)\n",
        "    return X\n",
        "    \n",
        "    \n",
        "def modelConsonant(inputX,classes):\n",
        "    X=Conv2D(8,(3,3),strides=(1,1),activation='relu',name='consonantL1')(inputX)\n",
        "    X=BatchNormalization(axis=-1,name='consonantL2')(X)\n",
        "    X=AveragePooling2D((2,2),name='consonantL3')(X)\n",
        "    \n",
        "    X=Conv2D(16,(3,3),strides=(1,1),activation='relu',name='consonantL5')(X)\n",
        "    X=BatchNormalization(axis=-1,name='consonantL6')(X)\n",
        "    X=AveragePooling2D((2,2),name='consonantL7')(X)\n",
        "    \n",
        "    X=Flatten()(X)\n",
        "    X=Dense(128,activation='relu',name='consonantL9')(X)\n",
        "    X=Dense(64,activation='relu',name='consonantL10')(X)\n",
        "    \n",
        "    X=Dense(classes,activation='softmax',name='consonantOutput')(X)\n",
        "    return X\n"
      ],
      "execution_count": 0,
      "outputs": []
    },
    {
      "cell_type": "code",
      "metadata": {
        "id": "t9xbXk3gHlDX",
        "colab_type": "code",
        "colab": {}
      },
      "source": [
        "# merge model & compile\n",
        "\n",
        "inputShape= Input((height,width,1))\n",
        "\n",
        "mRoot=modelRoot(inputShape,classRoots)\n",
        "mVowel=modelVowel(inputShape,classVowels)\n",
        "mConsonant=modelConsonant(inputShape,classConsonants)\n",
        "\n",
        "model=Model(inputs=inputShape,outputs=[mRoot,mVowel,mConsonant],name='banglaNet')\n",
        "\n",
        "losses={\n",
        "    'rootOutput':'categorical_crossentropy',\n",
        "    'vowelOutput':'categorical_crossentropy',\n",
        "    'consonantOutput':'categorical_crossentropy'\n",
        "}\n",
        "\n",
        "weights={\n",
        "    'rootOutput':1.0,\n",
        "    'vowelOutput':1.0,\n",
        "    'consonantOutput':1.0\n",
        "}\n",
        "\n",
        "outputs={'rootOutput':trY,\n",
        "         'vowelOutput':tvY,\n",
        "         'consonantOutput':tcY\n",
        "}\n",
        "\n",
        "vY={'rootOutput':vrY,\n",
        "    'vowelOutput':vvY,\n",
        "    'consonantOutput':vcY\n",
        "}\n",
        "\n",
        "model.compile(optimizer='adam',loss=losses,loss_weights=weights,metrics=['accuracy'])"
      ],
      "execution_count": 0,
      "outputs": []
    },
    {
      "cell_type": "code",
      "metadata": {
        "id": "_fhjYRAnOns1",
        "colab_type": "code",
        "colab": {}
      },
      "source": [
        "#run model\n",
        "Epoches=4\n",
        "history=model.fit(tX,outputs,validation_data=(vX,vY),epochs=Epoches,verbose=1)"
      ],
      "execution_count": 0,
      "outputs": []
    },
    {
      "cell_type": "code",
      "metadata": {
        "id": "OqbG1KysJf1W",
        "colab_type": "code",
        "colab": {}
      },
      "source": [
        "#evaluate\n",
        "\n",
        "result=model.evaluate(x=vX, y=vY, batch_size=64, verbose=1)"
      ],
      "execution_count": 0,
      "outputs": []
    },
    {
      "cell_type": "code",
      "metadata": {
        "id": "5cxsMqE6nW36",
        "colab_type": "code",
        "colab": {}
      },
      "source": [
        "#save model\n",
        "\n",
        "model_json = model.to_json()\n",
        "with open(fileLocations+'modelAug.json', \"w\") as json_file:\n",
        "    json_file.write(model_json)\n",
        "# serialize weights to HDF5\n",
        "model.save_weights(fileLocations+'modelWeight.h5')"
      ],
      "execution_count": 0,
      "outputs": []
    },
    {
      "cell_type": "code",
      "metadata": {
        "id": "X_PXQkHxODfI",
        "colab_type": "code",
        "colab": {}
      },
      "source": [
        "#load model\n",
        "\n",
        "from keras.models import model_from_json\n",
        "json_file = open(fileLocations+'model.json', 'r')\n",
        "loaded_model_json = json_file.read()\n",
        "json_file.close()\n",
        "model = model_from_json(loaded_model_json)\n",
        "model.load_weights(fileLocations+'modelWeight.h5')"
      ],
      "execution_count": 0,
      "outputs": []
    }
  ]
}